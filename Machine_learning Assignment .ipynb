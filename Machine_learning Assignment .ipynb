{
 "cells": [
  {
   "cell_type": "markdown",
   "id": "5d3333ed",
   "metadata": {},
   "source": [
    "### Question 1\n",
    "Explain the differences between AI, ML, Deep Learning (DL), and Data Science (DS)."
   ]
  },
  {
   "cell_type": "markdown",
   "id": "89156e46",
   "metadata": {},
   "source": [
    "\n",
    "**Answer:**  \n",
    "- **Artificial Intelligence (AI):** Broad field of computer science that focuses on creating systems that mimic human intelligence, including reasoning, problem solving, and decision making.  \n",
    "- **Machine Learning (ML):** A subset of AI where systems learn patterns from data without explicit programming.  \n",
    "- **Deep Learning (DL):** A specialized branch of ML that uses multi-layered neural networks to model complex patterns. Example: image recognition.  \n",
    "- **Data Science (DS):** A multidisciplinary field that combines statistics, data analysis, ML, and domain expertise to extract insights from data for decision-making.  \n"
   ]
  },
  {
   "cell_type": "markdown",
   "id": "52653744",
   "metadata": {},
   "source": [
    "### Question 2\n",
    "What are the types of machine learning? Describe each with one real-world example."
   ]
  },
  {
   "cell_type": "markdown",
   "id": "f75ada9c",
   "metadata": {},
   "source": [
    "\n",
    "**Answer:**  \n",
    "1. **Supervised Learning:** Model learns from labeled data (input-output pairs). Example: Spam email classification.  \n",
    "2. **Unsupervised Learning:** Model works with unlabeled data to find patterns. Example: Customer segmentation using clustering.  \n",
    "3. **Reinforcement Learning:** Agent learns through trial and error by interacting with the environment and receiving rewards. Example: Game-playing AI (like AlphaGo).  \n"
   ]
  },
  {
   "cell_type": "markdown",
   "id": "2444f175",
   "metadata": {},
   "source": [
    "### Question 3\n",
    "Define overfitting, underfitting, and the bias-variance tradeoff in machine learning."
   ]
  },
  {
   "cell_type": "markdown",
   "id": "c143906b",
   "metadata": {},
   "source": [
    "\n",
    "**Answer:**  \n",
    "- **Overfitting:** Model learns both patterns and noise in training data, performing well on training but poorly on new data.  \n",
    "- **Underfitting:** Model is too simple and fails to capture patterns, leading to poor performance on both training and test data.  \n",
    "- **Bias-Variance Tradeoff:** Balance between bias (error from overly simple models) and variance (error from overly complex models). Optimal performance comes from managing this tradeoff.  \n"
   ]
  },
  {
   "cell_type": "markdown",
   "id": "1ea64759",
   "metadata": {},
   "source": [
    "### Question 4\n",
    "What are outliers in a dataset, and list three common techniques for handling them."
   ]
  },
  {
   "cell_type": "markdown",
   "id": "36a796b7",
   "metadata": {},
   "source": [
    "\n",
    "**Answer:**  \n",
    "- **Outliers:** Data points that significantly differ from other observations.  \n",
    "**Techniques to handle outliers:**  \n",
    "1. Removal of outliers.  \n",
    "2. Transformation (e.g., log scaling).  \n",
    "3. Winsorization (replacing extreme values with percentile values).  \n"
   ]
  },
  {
   "cell_type": "markdown",
   "id": "8566c3be",
   "metadata": {},
   "source": [
    "### Question 5\n",
    "Explain the process of handling missing values and mention one imputation technique for numerical and one for categorical data."
   ]
  },
  {
   "cell_type": "markdown",
   "id": "887e5661",
   "metadata": {},
   "source": [
    "\n",
    "**Answer:**  \n",
    "- **Process of handling missing values:** Detect missingness, analyze patterns, decide to drop or impute values.  \n",
    "- **Numerical Imputation:** Replace missing values with mean or median.  \n",
    "- **Categorical Imputation:** Replace missing values with the mode or 'Unknown' category.  \n"
   ]
  },
  {
   "cell_type": "markdown",
   "id": "57e6da42",
   "metadata": {},
   "source": [
    "### Question 6\n",
    "Write a Python program that:\n",
    "\n",
    "● Creates a synthetic imbalanced dataset with make_classification() from sklearn.datasets.\n",
    "\n",
    "● Prints the class distribution.\n",
    "(Include your Python code and output in the code box below.)"
   ]
  },
  {
   "cell_type": "code",
   "execution_count": 6,
   "id": "e059ea44",
   "metadata": {},
   "outputs": [
    {
     "name": "stdout",
     "output_type": "stream",
     "text": [
      "Class distribution:\n",
      "Class 0: 900 samples\n",
      "Class 1: 100 samples\n"
     ]
    }
   ],
   "source": [
    "from sklearn.datasets import make_classification\n",
    "from collections import Counter\n",
    "import numpy as np\n",
    "\n",
    "# Create synthetic imbalanced dataset\n",
    "X, y = make_classification(\n",
    "    n_samples=1000,         # total samples\n",
    "    n_features=20,          # total features\n",
    "    n_informative=2,        # number of informative features\n",
    "    n_redundant=10,         # number of redundant features\n",
    "    n_clusters_per_class=1, # clusters per class\n",
    "    weights=[0.9, 0.1],     # imbalance: 90% class 0, 10% class 1\n",
    "    flip_y=0,               # no noise\n",
    "    random_state=42         # for reproducibility\n",
    ")\n",
    "\n",
    "# Print class distribution\n",
    "class_distribution = Counter(y)\n",
    "print(\"Class distribution:\")\n",
    "for label, count in class_distribution.items():\n",
    "    print(f\"Class {label}: {count} samples\")\n"
   ]
  },
  {
   "cell_type": "markdown",
   "id": "de4b3cf5",
   "metadata": {},
   "source": [
    "### Question 7\n",
    "Implement one-hot encoding using pandas for the following list of colors: ['Red', 'Green', 'Blue', 'Green', 'Red']. Print the resulting dataframe.\n",
    "(Include your Python code and output in the code box below.)"
   ]
  },
  {
   "cell_type": "code",
   "execution_count": 10,
   "id": "c70475f6",
   "metadata": {},
   "outputs": [
    {
     "name": "stdout",
     "output_type": "stream",
     "text": [
      "   Blue  Green  Red\n",
      "0     0      0    1\n",
      "1     0      1    0\n",
      "2     1      0    0\n",
      "3     0      1    0\n",
      "4     0      0    1\n"
     ]
    }
   ],
   "source": [
    "\n",
    "import pandas as pd\n",
    "\n",
    "# Original list of colors\n",
    "colors = ['Red', 'Green', 'Blue', 'Green', 'Red']\n",
    "\n",
    "# Convert to a DataFrame\n",
    "df = pd.DataFrame({'Color': colors})\n",
    "\n",
    "# Apply one-hot encoding\n",
    "one_hot_encoded = pd.get_dummies(df['Color']).astype(int)\n",
    "\n",
    "# Print the resulting DataFrame\n",
    "print(one_hot_encoded)\n"
   ]
  },
  {
   "cell_type": "markdown",
   "id": "4330bdf6",
   "metadata": {},
   "source": [
    "### Question 8\n",
    "Write a Python script to:\n",
    "\n",
    "● Generate 1000 samples from a normal distribution.\n",
    "● Introduce 50 random missing values.\n",
    "● Fill missing values with the column mean.\n",
    "● Plot a histogram before and after imputation.\n",
    "\n",
    "(Include your Python code and output in the code box below.)"
   ]
  },
  {
   "cell_type": "code",
   "execution_count": 11,
   "id": "6456aa05",
   "metadata": {},
   "outputs": [
    {
     "data": {
      "image/png": "[encoded data removed]",
      "text/plain": [
       "<Figure size 1000x400 with 2 Axes>"
      ]
     },
     "metadata": {},
     "output_type": "display_data"
    }
   ],
   "source": [
    "import numpy as np\n",
    "import matplotlib.pyplot as plt\n",
    "\n",
    "# Generate 1000 samples from a normal distribution\n",
    "data = np.random.normal(0, 1, 1000)\n",
    "\n",
    "# Introduce 50 random missing values\n",
    "data[np.random.choice(1000, 50, replace=False)] = np.nan\n",
    "\n",
    "# Save a copy before imputation for plotting\n",
    "data_before = data.copy()\n",
    "\n",
    "# Fill missing values with the mean\n",
    "mean_value = np.nanmean(data)\n",
    "data[np.isnan(data)] = mean_value\n",
    "\n",
    "# Plot histograms\n",
    "plt.figure(figsize=(10, 4))\n",
    "\n",
    "plt.subplot(1, 2, 1)\n",
    "plt.hist(data_before[~np.isnan(data_before)], bins=30, color='blue')\n",
    "plt.title('Before Imputation')\n",
    "\n",
    "plt.subplot(1, 2, 2)\n",
    "plt.hist(data, bins=30, color='green')\n",
    "plt.title('After Imputation')\n",
    "\n",
    "plt.tight_layout()\n",
    "plt.show()\n",
    "\n"
   ]
  },
  {
   "cell_type": "markdown",
   "id": "f0cc90d8",
   "metadata": {},
   "source": [
    "### Question 9\n",
    "Implement Min-Max scaling on the following list of numbers [2, 5, 10, 15, 20] using sklearn.preprocessing.MinMaxScaler. Print the scaled array.\n",
    "\n",
    "(Include your Python code and output in the code box below.)"
   ]
  },
  {
   "cell_type": "code",
   "execution_count": 4,
   "id": "f483e6d0",
   "metadata": {},
   "outputs": [
    {
     "name": "stdout",
     "output_type": "stream",
     "text": [
      "Scaled array:\n",
      " [[0.        ]\n",
      " [0.16666667]\n",
      " [0.44444444]\n",
      " [0.72222222]\n",
      " [1.        ]]\n"
     ]
    }
   ],
   "source": [
    "\n",
    "from sklearn.preprocessing import MinMaxScaler\n",
    "import numpy as np\n",
    "\n",
    "data = np.array([[2], [5], [10], [15], [20]])\n",
    "scaler = MinMaxScaler()\n",
    "scaled = scaler.fit_transform(data)\n",
    "\n",
    "print(\"Scaled array:\\n\", scaled)\n"
   ]
  },
  {
   "cell_type": "markdown",
   "id": "a3b4909c",
   "metadata": {},
   "source": [
    "### Question 10\n",
    "You are working as a data scientist for a retail company. You receive a customer transaction dataset that contains:\n",
    "\n",
    "● Missing ages,\n",
    "● Outliers in transaction amount,\n",
    "● A highly imbalanced target (fraud vs. non-fraud),\n",
    "● Categorical variables like payment method.\n",
    "\n",
    "Explain the step-by-step data preparation plan you’d follow before training a machine learning model. Include how you’d address missing data, outliers, imbalance, and encoding.\n",
    "\n",
    "(Include your Python code and output in the code box below.)"
   ]
  },
  {
   "cell_type": "markdown",
   "id": "754cc922",
   "metadata": {},
   "source": [
    "\n",
    "**Answer:**  \n",
    "1. **Handling Missing Ages:** Impute missing ages using median (numerical).  \n",
    "2. **Handling Outliers in Transaction Amount:** Apply IQR-based removal or transformation.  \n",
    "3. **Handling Imbalanced Target:** Use SMOTE (oversampling) or class weights.  \n",
    "4. **Handling Categorical Variables:** Use one-hot encoding for nominal features (like payment method).  \n",
    "5. **Final Step:** Scale numerical features, split into train/test, and proceed with model training.  \n"
   ]
  },
  {
   "cell_type": "code",
   "execution_count": 14,
   "id": "c3ef6820",
   "metadata": {},
   "outputs": [
    {
     "name": "stdout",
     "output_type": "stream",
     "text": [
      "Before SMOTE: fraud\n",
      "0    5\n",
      "1    2\n",
      "Name: count, dtype: int64\n",
      "After SMOTE: fraud\n",
      "1    5\n",
      "0    5\n",
      "Name: count, dtype: int64\n"
     ]
    }
   ],
   "source": [
    "import pandas as pd\n",
    "import numpy as np\n",
    "from sklearn.impute import SimpleImputer\n",
    "from sklearn.model_selection import train_test_split\n",
    "from imblearn.over_sampling import SMOTE\n",
    "\n",
    "# Create dummy data\n",
    "data = {\n",
    "    'age': [22, np.nan, 45, 38, 27, np.nan, 50, 29, 31, 40],\n",
    "    'transaction_amount': [100, 5000, 150, 200000, 300, 250, 10000, 400, 700, 1200],\n",
    "    'payment_method': ['card', 'cash', 'card', 'transfer', 'cash', 'card', 'transfer', 'cash', 'card', 'transfer'],\n",
    "    'fraud': [0, 0, 1, 0, 0, 0, 1, 0, 0, 1]\n",
    "}\n",
    "df = pd.DataFrame(data)\n",
    "\n",
    "# Fill missing ages with median\n",
    "imputer = SimpleImputer(strategy='median')\n",
    "df['age'] = imputer.fit_transform(df[['age']])\n",
    "\n",
    "# Cap outliers in transaction_amount at 1st and 99th percentile\n",
    "lower = df['transaction_amount'].quantile(0.01)\n",
    "upper = df['transaction_amount'].quantile(0.99)\n",
    "df['transaction_amount'] = df['transaction_amount'].clip(lower, upper)\n",
    "\n",
    "# One-hot encode payment_method\n",
    "df = pd.get_dummies(df, columns=['payment_method'], drop_first=True)\n",
    "\n",
    "# Split features and target\n",
    "X = df.drop('fraud', axis=1)\n",
    "y = df['fraud']\n",
    "\n",
    "# Train-test split\n",
    "X_train, X_test, y_train, y_test = train_test_split(X, y, stratify=y, random_state=42)\n",
    "\n",
    "# Use SMOTE with k_neighbors=1 to fix small minority class issue\n",
    "smote = SMOTE(random_state=42, k_neighbors=1)\n",
    "X_train_resampled, y_train_resampled = smote.fit_resample(X_train, y_train)\n",
    "\n",
    "print(\"Before SMOTE:\", y_train.value_counts())\n",
    "print(\"After SMOTE:\", pd.Series(y_train_resampled).value_counts())\n"
   ]
  },
  {
   "cell_type": "code",
   "execution_count": null,
   "id": "ed2973af-b384-427f-96a0-1f101db3dce5",
   "metadata": {},
   "outputs": [],
   "source": []
  }
 ],
 "metadata": {
  "kernelspec": {
   "display_name": "Python 3 (ipykernel)",
   "language": "python",
   "name": "python3"
  },
  "language_info": {
   "codemirror_mode": {
    "name": "ipython",
    "version": 3
   },
   "file_extension": ".py",
   "mimetype": "text/x-python",
   "name": "python",
   "nbconvert_exporter": "python",
   "pygments_lexer": "ipython3",
   "version": "3.13.5"
  }
 },
 "nbformat": 4,
 "nbformat_minor": 5
}
